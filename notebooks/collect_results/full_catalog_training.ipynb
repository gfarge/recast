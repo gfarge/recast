{
 "cells": [
  {
   "cell_type": "markdown",
   "id": "fc877a15",
   "metadata": {},
   "source": [
    "# Save trained models"
   ]
  },
  {
   "cell_type": "code",
   "execution_count": 1,
   "id": "2a4f923a",
   "metadata": {
    "ExecuteTime": {
     "end_time": "2022-03-03T16:46:28.717187Z",
     "start_time": "2022-03-03T16:46:23.641631Z"
    }
   },
   "outputs": [],
   "source": [
    "import torch\n",
    "import eq\n",
    "import numpy as np\n",
    "import pandas as pd\n",
    "import matplotlib.pyplot as plt\n",
    "import seml\n",
    "import seaborn as sns\n",
    "import tempfile\n",
    "import wandb\n",
    "\n",
    "from tqdm.auto import tqdm"
   ]
  },
  {
   "cell_type": "markdown",
   "id": "ee893a24",
   "metadata": {},
   "source": [
    "## Load results from the database"
   ]
  },
  {
   "cell_type": "code",
   "execution_count": 2,
   "id": "c4cf3aa7",
   "metadata": {
    "ExecuteTime": {
     "end_time": "2022-03-03T16:46:28.834495Z",
     "start_time": "2022-03-03T16:46:28.719703Z"
    }
   },
   "outputs": [
    {
     "data": {
      "application/vnd.jupyter.widget-view+json": {
       "model_id": "3b6972436882456eba821d6ddb986bc8",
       "version_major": 2,
       "version_minor": 0
      },
      "text/plain": [
       "  0%|          | 0/50 [00:00<?, ?it/s]"
      ]
     },
     "metadata": {},
     "output_type": "display_data"
    },
    {
     "data": {
      "application/vnd.jupyter.widget-view+json": {
       "model_id": "540dc3db8fce49a3ae72501e54da7387",
       "version_major": 2,
       "version_minor": 0
      },
      "text/plain": [
       "  0%|          | 0/50 [00:00<?, ?it/s]"
      ]
     },
     "metadata": {},
     "output_type": "display_data"
    }
   ],
   "source": [
    "results_df = seml.get_results(\"eq_mle\", to_data_frame=True)\n",
    "# Select and rename the relevant columns\n",
    "results_df = results_df[[\n",
    "    \"config.model_name\", \n",
    "    \"config.dataset_name\", \n",
    "    \"config.random_seed\", \n",
    "    \"result.wandb_url\",\n",
    "    \"result.final_nll_train\", \n",
    "    \"result.final_nll_val\", \n",
    "    \"result.final_nll_test\",\n",
    "]]\n",
    "results_df.columns = [\"model_name\", \"dataset_name\", \"random_seed\", \"wandb_url\", \"nll_train\", \"nll_val\", \"nll_test\"]\n",
    "# Set random_seed for ETAS to zero\n",
    "results_df.fillna(0.0, inplace=True)"
   ]
  },
  {
   "cell_type": "markdown",
   "id": "d27936dc",
   "metadata": {},
   "source": [
    "## Save trained models to disk"
   ]
  },
  {
   "cell_type": "code",
   "execution_count": 3,
   "id": "626af97d",
   "metadata": {
    "ExecuteTime": {
     "end_time": "2022-03-03T16:46:28.841482Z",
     "start_time": "2022-03-03T16:46:28.836100Z"
    }
   },
   "outputs": [],
   "source": [
    "import shutil\n",
    "from pathlib import Path\n",
    "\n",
    "def download_model_to_disk(model_name, url, filename):\n",
    "    filename = Path(filename)\n",
    "    save_dir = filename.parents[0]\n",
    "    api = wandb.Api()\n",
    "    model_class = getattr(eq.models, model_name)\n",
    "    run = api.run(url)\n",
    "    best_model = [file for file in run.files() if file.name == \"best_model.ckpt\"][0]\n",
    "    # Download to target directory and rename\n",
    "    download_path = best_model.download(save_dir)\n",
    "    shutil.move(download_path.name, filename)\n",
    "    # Load the model\n",
    "    return model_class.load_from_checkpoint(filename)"
   ]
  },
  {
   "cell_type": "code",
   "execution_count": 4,
   "id": "302662ca",
   "metadata": {
    "ExecuteTime": {
     "end_time": "2022-03-03T16:46:42.945138Z",
     "start_time": "2022-03-03T16:46:28.843073Z"
    }
   },
   "outputs": [
    {
     "name": "stdout",
     "output_type": "stream",
     "text": [
      "Saving to /nfs/homedirs/shchur/research/earthquake-ntpp-release/trained_models/QTMSanJacinto_ETAS.ckpt\n",
      "Saving to /nfs/homedirs/shchur/research/earthquake-ntpp-release/trained_models/QTMSaltonSea_ETAS.ckpt\n",
      "Saving to /nfs/homedirs/shchur/research/earthquake-ntpp-release/trained_models/SCEDC_ETAS.ckpt\n",
      "Saving to /nfs/homedirs/shchur/research/earthquake-ntpp-release/trained_models/White_ETAS.ckpt\n",
      "Saving to /nfs/homedirs/shchur/research/earthquake-ntpp-release/trained_models/QTMSanJacinto_RecurrentTPP.ckpt\n",
      "Saving to /nfs/homedirs/shchur/research/earthquake-ntpp-release/trained_models/QTMSaltonSea_RecurrentTPP.ckpt\n",
      "Saving to /nfs/homedirs/shchur/research/earthquake-ntpp-release/trained_models/SCEDC_RecurrentTPP.ckpt\n",
      "Saving to /nfs/homedirs/shchur/research/earthquake-ntpp-release/trained_models/White_RecurrentTPP.ckpt\n",
      "Saving to /nfs/homedirs/shchur/research/earthquake-ntpp-release/trained_models/ETAS_MultiCatalog_ETAS.ckpt\n",
      "Saving to /nfs/homedirs/shchur/research/earthquake-ntpp-release/trained_models/ETAS_MultiCatalog_RecurrentTPP.ckpt\n"
     ]
    }
   ],
   "source": [
    "model_save_dir = Path(eq.__file__).parents[1] / \"trained_models\"\n",
    "\n",
    "# We save the NTPP model with seed 0 to disk\n",
    "for idx, row in results_df.query(\"random_seed == 0\").iterrows():\n",
    "    save_path = model_save_dir / f\"{row['dataset_name']}_{row['model_name']}.ckpt\"\n",
    "    print(f\"Saving to {save_path}\")\n",
    "    model = download_model_to_disk(model_name=row[\"model_name\"], url=row[\"wandb_url\"], filename=save_path)"
   ]
  },
  {
   "cell_type": "markdown",
   "id": "46512ff3",
   "metadata": {},
   "source": [
    "## Save NLL results"
   ]
  },
  {
   "cell_type": "code",
   "execution_count": 5,
   "id": "3e5f0200",
   "metadata": {
    "ExecuteTime": {
     "end_time": "2022-03-03T16:46:42.952616Z",
     "start_time": "2022-03-03T16:46:42.947080Z"
    }
   },
   "outputs": [],
   "source": [
    "results_df.sort_values(by=[\"dataset_name\", \"model_name\"], inplace=True)"
   ]
  },
  {
   "cell_type": "code",
   "execution_count": 6,
   "id": "4d7caa0d",
   "metadata": {
    "ExecuteTime": {
     "end_time": "2022-03-03T16:46:42.978281Z",
     "start_time": "2022-03-03T16:46:42.955031Z"
    }
   },
   "outputs": [],
   "source": [
    "results_dir = Path(eq.__file__).parents[1] / \"results\"\n",
    "results_df.to_csv(results_dir / \"nll_real_world.csv\")"
   ]
  }
 ],
 "metadata": {
  "kernelspec": {
   "display_name": "Python 3 (ipykernel)",
   "language": "python",
   "name": "python3"
  },
  "language_info": {
   "codemirror_mode": {
    "name": "ipython",
    "version": 3
   },
   "file_extension": ".py",
   "mimetype": "text/x-python",
   "name": "python",
   "nbconvert_exporter": "python",
   "pygments_lexer": "ipython3",
   "version": "3.9.16"
  },
  "toc": {
   "base_numbering": 1,
   "nav_menu": {},
   "number_sections": true,
   "sideBar": true,
   "skip_h1_title": false,
   "title_cell": "Table of Contents",
   "title_sidebar": "Contents",
   "toc_cell": false,
   "toc_position": {},
   "toc_section_display": true,
   "toc_window_display": false
  }
 },
 "nbformat": 4,
 "nbformat_minor": 5
}
