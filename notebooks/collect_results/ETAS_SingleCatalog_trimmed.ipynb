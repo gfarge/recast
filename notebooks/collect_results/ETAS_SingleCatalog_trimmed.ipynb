{
 "cells": [
  {
   "cell_type": "markdown",
   "id": "99237649",
   "metadata": {},
   "source": [
    "# ETAS_SingleCatalog trimmed\n",
    "Train NTPP and ETAS models on different training set sizes on White et al. catalog (Mc = 0.6)"
   ]
  },
  {
   "cell_type": "code",
   "execution_count": 1,
   "id": "2a4f923a",
   "metadata": {
    "ExecuteTime": {
     "end_time": "2022-03-04T14:28:08.875925Z",
     "start_time": "2022-03-04T14:28:03.725849Z"
    }
   },
   "outputs": [],
   "source": [
    "import torch\n",
    "import eq\n",
    "import numpy as np\n",
    "import pandas as pd\n",
    "import matplotlib.pyplot as plt\n",
    "import seml\n",
    "import seaborn as sns\n",
    "\n",
    "from tqdm.auto import tqdm"
   ]
  },
  {
   "cell_type": "code",
   "execution_count": 2,
   "id": "e593fa0d",
   "metadata": {
    "ExecuteTime": {
     "end_time": "2022-03-04T14:28:09.149421Z",
     "start_time": "2022-03-04T14:28:08.878631Z"
    }
   },
   "outputs": [
    {
     "name": "stdout",
     "output_type": "stream",
     "text": [
      "Loading existing catalog from /nfs/homedirs/shchur/research/earthquake-ntpp-release/data/ETAS_SingleCatalog.\n"
     ]
    }
   ],
   "source": [
    "catalog = eq.catalogs.ETAS_SingleCatalog()"
   ]
  },
  {
   "cell_type": "markdown",
   "id": "846e69ad",
   "metadata": {},
   "source": [
    "## Load NTPP results from the database"
   ]
  },
  {
   "cell_type": "code",
   "execution_count": 3,
   "id": "7cd72582",
   "metadata": {
    "ExecuteTime": {
     "end_time": "2022-03-04T14:28:09.406961Z",
     "start_time": "2022-03-04T14:28:09.152058Z"
    }
   },
   "outputs": [
    {
     "data": {
      "application/vnd.jupyter.widget-view+json": {
       "model_id": "a7e5e0d7e3d8437e9319d319f60610ed",
       "version_major": 2,
       "version_minor": 0
      },
      "text/plain": [
       "  0%|          | 0/160 [00:00<?, ?it/s]"
      ]
     },
     "metadata": {},
     "output_type": "display_data"
    },
    {
     "data": {
      "application/vnd.jupyter.widget-view+json": {
       "model_id": "c498619008324b41863021131c640f46",
       "version_major": 2,
       "version_minor": 0
      },
      "text/plain": [
       "  0%|          | 0/160 [00:00<?, ?it/s]"
      ]
     },
     "metadata": {},
     "output_type": "display_data"
    }
   ],
   "source": [
    "df = seml.get_results(\"eq_trimmed\", to_data_frame=True)\n",
    "df.sort_values(by=\"config.train_fraction\", inplace=True)\n",
    "df = df.query(\"`config.dataset_name` == 'ETAS_SingleCatalog'\")\n",
    "df.fillna(0.0, inplace=True)"
   ]
  },
  {
   "cell_type": "code",
   "execution_count": 4,
   "id": "3b2f6c2d",
   "metadata": {
    "ExecuteTime": {
     "end_time": "2022-03-04T14:28:09.412401Z",
     "start_time": "2022-03-04T14:28:09.408818Z"
    }
   },
   "outputs": [],
   "source": [
    "df[\"num_events_train\"] = df[\"result.num_events_train\"] + df[\"result.num_events_val\"]"
   ]
  },
  {
   "cell_type": "code",
   "execution_count": 5,
   "id": "5c5e9fd8",
   "metadata": {
    "ExecuteTime": {
     "end_time": "2022-03-04T14:28:09.429856Z",
     "start_time": "2022-03-04T14:28:09.413878Z"
    }
   },
   "outputs": [],
   "source": [
    "results_ntpp = df[[\"config.model_name\", \"config.random_seed\", \"num_events_train\", \"result.final_nll_test\"]]\n",
    "results_ntpp.columns = [\"model_name\", \"random_seed\", \"num_events_train\", \"nll_test\"]"
   ]
  },
  {
   "cell_type": "markdown",
   "id": "8e7d873c",
   "metadata": {},
   "source": [
    "## Compute ETAS NLL"
   ]
  },
  {
   "cell_type": "code",
   "execution_count": 6,
   "id": "90e1d8ca",
   "metadata": {
    "ExecuteTime": {
     "end_time": "2022-03-04T14:28:09.461107Z",
     "start_time": "2022-03-04T14:28:09.431676Z"
    }
   },
   "outputs": [],
   "source": [
    "etas = eq.models.ETAS(\n",
    "    omori_p_init=catalog.metadata[\"omori_p\"],\n",
    "    omori_c_init=catalog.metadata[\"omori_c\"],\n",
    "    base_rate_init=catalog.metadata[\"base_rate\"],\n",
    "    productivity_alpha_init=catalog.metadata[\"productivity_alpha\"],\n",
    "    productivity_k_init=catalog.metadata[\"productivity_k\"],\n",
    "    richter_b=catalog.metadata[\"richter_b\"],\n",
    ").double()"
   ]
  },
  {
   "cell_type": "code",
   "execution_count": 7,
   "id": "ebbed675",
   "metadata": {
    "ExecuteTime": {
     "end_time": "2022-03-04T14:28:20.951976Z",
     "start_time": "2022-03-04T14:28:09.462583Z"
    }
   },
   "outputs": [],
   "source": [
    "with torch.no_grad():\n",
    "    nll_etas = etas.nll_loss(eq.data.Batch.from_list([catalog.test[0].double()])).item()"
   ]
  },
  {
   "cell_type": "code",
   "execution_count": 8,
   "id": "7638de7f",
   "metadata": {
    "ExecuteTime": {
     "end_time": "2022-03-04T14:28:20.960309Z",
     "start_time": "2022-03-04T14:28:20.954292Z"
    }
   },
   "outputs": [],
   "source": [
    "results_etas = []\n",
    "for n_train in results_ntpp.num_events_train.unique():\n",
    "    results_etas.append({\n",
    "        \"model_name\": \"ETAS\",\n",
    "        \"random_seed\": 0.0,\n",
    "        \"num_events_train\": n_train,\n",
    "        \"nll_test\": nll_etas,\n",
    "    })\n",
    "results_etas = pd.DataFrame(results_etas)"
   ]
  },
  {
   "cell_type": "markdown",
   "id": "ef25e24c",
   "metadata": {},
   "source": [
    "## Combine results"
   ]
  },
  {
   "cell_type": "code",
   "execution_count": 9,
   "id": "8a605843",
   "metadata": {
    "ExecuteTime": {
     "end_time": "2022-03-04T14:28:20.977987Z",
     "start_time": "2022-03-04T14:28:20.961669Z"
    }
   },
   "outputs": [],
   "source": [
    "results = pd.concat([results_ntpp, results_etas])"
   ]
  },
  {
   "cell_type": "code",
   "execution_count": 10,
   "id": "f64cef13",
   "metadata": {
    "ExecuteTime": {
     "end_time": "2022-03-04T14:28:20.993779Z",
     "start_time": "2022-03-04T14:28:20.980846Z"
    }
   },
   "outputs": [],
   "source": [
    "results[\"loglike_test\"] = -results[\"nll_test\"]\n",
    "results.reset_index(drop=True, inplace=True)"
   ]
  },
  {
   "cell_type": "code",
   "execution_count": 11,
   "id": "48c4e8ad",
   "metadata": {
    "ExecuteTime": {
     "end_time": "2022-03-04T14:28:21.023390Z",
     "start_time": "2022-03-04T14:28:20.995481Z"
    }
   },
   "outputs": [],
   "source": [
    "results.to_csv(\"../../results/ETAS_SingleCatalog_trimmed.csv\")"
   ]
  },
  {
   "cell_type": "markdown",
   "id": "1ed91c4c",
   "metadata": {},
   "source": [
    "## Visualize the results"
   ]
  },
  {
   "cell_type": "code",
   "execution_count": 12,
   "id": "d42f98bb",
   "metadata": {
    "ExecuteTime": {
     "end_time": "2022-03-04T14:28:21.032258Z",
     "start_time": "2022-03-04T14:28:21.025064Z"
    }
   },
   "outputs": [],
   "source": [
    "results = pd.read_csv(\"../../results/ETAS_SingleCatalog_trimmed.csv\", index_col=0)"
   ]
  },
  {
   "cell_type": "code",
   "execution_count": 13,
   "id": "056d8055",
   "metadata": {
    "ExecuteTime": {
     "end_time": "2022-03-04T14:28:21.494725Z",
     "start_time": "2022-03-04T14:28:21.033788Z"
    },
    "scrolled": false
   },
   "outputs": [
    {
     "data": {
      "text/plain": [
       "<AxesSubplot:xlabel='num_events_train', ylabel='loglike_test'>"
      ]
     },
     "execution_count": 13,
     "metadata": {},
     "output_type": "execute_result"
    },
    {
     "data": {
      "image/png": "[encoded data removed]",
      "text/plain": [
       "<Figure size 900x600 with 1 Axes>"
      ]
     },
     "metadata": {
      "needs_background": "light"
     },
     "output_type": "display_data"
    }
   ],
   "source": [
    "plt.figure(dpi=150)\n",
    "sns.pointplot(data=results, x=\"num_events_train\", y=\"loglike_test\", hue=\"model_name\", scale=0.6)"
   ]
  }
 ],
 "metadata": {
  "kernelspec": {
   "display_name": "Python [conda env:eq2]",
   "language": "python",
   "name": "conda-env-eq2-py"
  },
  "language_info": {
   "codemirror_mode": {
    "name": "ipython",
    "version": 3
   },
   "file_extension": ".py",
   "mimetype": "text/x-python",
   "name": "python",
   "nbconvert_exporter": "python",
   "pygments_lexer": "ipython3",
   "version": "3.9.7"
  },
  "toc": {
   "base_numbering": 1,
   "nav_menu": {},
   "number_sections": true,
   "sideBar": true,
   "skip_h1_title": false,
   "title_cell": "Table of Contents",
   "title_sidebar": "Contents",
   "toc_cell": false,
   "toc_position": {},
   "toc_section_display": true,
   "toc_window_display": false
  }
 },
 "nbformat": 4,
 "nbformat_minor": 5
}
